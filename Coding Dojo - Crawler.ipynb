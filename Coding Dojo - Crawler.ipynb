{
 "cells": [
  {
   "cell_type": "markdown",
   "metadata": {},
   "source": [
    "# ☯ Coding Dojo ☯"
   ]
  },
  {
   "cell_type": "markdown",
   "metadata": {},
   "source": [
    "<img style=\"float:left\" src=\"imgs/vamos_coletar.png\">\n",
    "## Regras\n",
    "\n",
    "Ponto de participação, poderá perdido se:\n",
    "\n",
    "    - Aluno atrasado (ver política de atraso na especificação)\n",
    "    - Recusar participação como piloto/copiloto\n",
    "        - Ou não querer sair do computador, quando solicitado :-)\n",
    "    - Demorar para sair quando solicitado\n",
    "    - Parar de participar por:\n",
    "        - Uso de outro computador\n",
    "        - Uso de celular\n",
    "        - Usar a internet\n",
    "        - Conversa\n"
   ]
  },
  {
   "cell_type": "markdown",
   "metadata": {},
   "source": [
    "Antes de entregar, certifique-se que tenha executado todos os comandos/códigos deste Jupyter. É obrigatório que todas as saídas tenham sido apresentadas. Perda de 3 pontos caso não tenham feito isso."
   ]
  },
  {
   "cell_type": "markdown",
   "metadata": {},
   "source": [
    "# Dependencias"
   ]
  },
  {
   "cell_type": "markdown",
   "metadata": {},
   "source": [
    "Se necessário, instale o python3 e o pip3 abaixo usando `sudo apt-get install python3 python3-pip`.  Execute abaixo para instalar o [BeautifulSoup](https://www.crummy.com/software/BeautifulSoup/) e o [lxml](https://lxml.de/). Qualquer linha de comando/código como a de baixo, você pode executá-la a selecionando e pressionando `ctrl+enter` ❣️."
   ]
  },
  {
   "cell_type": "code",
   "execution_count": 1,
   "metadata": {},
   "outputs": [
    {
     "name": "stdout",
     "output_type": "stream",
     "text": [
      "Defaulting to user installation because normal site-packages is not writeable\n",
      "Requirement already satisfied: bs4 in /home/aluno/.local/lib/python3.10/site-packages (0.0.1)\n",
      "Requirement already satisfied: beautifulsoup4 in /usr/lib/python3/dist-packages (from bs4) (4.10.0)\n",
      "Defaulting to user installation because normal site-packages is not writeable\n",
      "Requirement already satisfied: lxml in /home/aluno/.local/lib/python3.10/site-packages (4.9.2)\n"
     ]
    }
   ],
   "source": [
    "!pip3 install bs4\n",
    "!pip3 install lxml"
   ]
  },
  {
   "cell_type": "markdown",
   "metadata": {},
   "source": [
    "Caso de comando não encontrado `pip3` use `pip`. "
   ]
  },
  {
   "cell_type": "markdown",
   "metadata": {},
   "source": [
    "# Coletor"
   ]
  },
  {
   "cell_type": "markdown",
   "metadata": {},
   "source": [
    "<img src=\"imgs/arquitetura_coletor.png\">"
   ]
  },
  {
   "cell_type": "markdown",
   "metadata": {},
   "source": [
    "Você deverá completar a implementação das três classes abaixo para fazer o coletor: `Domain`, `Scheduler` e `PageFetcher`. Conforme figura acima, o `Scheduler` é responsável por armazenar as filas de URLs a serem requisitadas; o PageFetcher serão *threads* responsáveis por fazer as requisições das URLs obtidas por meio do escalonador (instancia da classe `Scheduler`). A classe `Domain` armazena informações importantes sobre o servidor a serem usadas no momento do escalonamento das URLs."
   ]
  },
  {
   "cell_type": "markdown",
   "metadata": {},
   "source": [
    "## Classe `Domain`"
   ]
  },
  {
   "cell_type": "markdown",
   "metadata": {},
   "source": [
    "<figure style=\"text-align:center\">\n",
    "    <img src=\"imgs/estrutura_coletor.png\">\n",
    "    <caption>Fonte: Baeza-Yates e Ribeiro-Neto, 2011 </caption>\n",
    "</figure>"
   ]
  },
  {
   "cell_type": "markdown",
   "metadata": {},
   "source": [
    "Antes de começar a fazer o escalonador (classe `Scheduler`) devemos implementar a classe que representa os domínios. Conforme visto na figura acima, o escalonador possuirá diversas filas, uma para cada servidor.  Em nosso caso, o servidor será um domínio - que você irá implementar na classe `Domain` do arquivo `domain.py`. \n",
    "\n",
    "O escalonador percorrerá cada servidor e obterá o primeiro da fila do primeiro servidor acessível. O servidor é acessível obdecendo o limite de tempo entre requisições (em segundos, usando o atributo `time_limit_between_requests`). \n",
    "\n",
    "Nesta atividade você irá implementar a classe `Domain`, que já possui os seguintes atributos: \n",
    "\n",
    "- *time_limit_between_requests*: Limite entre requisições (int)\n",
    "- *nam_domain*: Nome do domínio (String)\n",
    "- *time_last_access*: [Objeto Datetime](https://docs.python.org/3/library/datetime.html#datetime-objects) informando da data/hora do último acesso \n",
    "\n",
    "O prefixo da variável sempre irá denotar o tipo da mesma."
   ]
  },
  {
   "cell_type": "markdown",
   "metadata": {},
   "source": [
    "**Atividade 1 - classe `Domain`**: Complete a classe `Domain` implementando os métodos/atributos calculados descritos a seguir. Logo após, execute o ❣️ teste unitário ❣️ para verificar se os métodos/atributos calculados foram implementados conforme esperado.\n",
    "\n",
    "- **accessed_now**: Método que modifica o último acesso com a data/hora atual usando um [objeto datetime](https://docs.python.org/3/library/datetime.html#datetime-objects)\n",
    "- **time_since_last_access**: Atributo calculado que retorna um [objeto TimeDelta](https://docs.python.org/3/library/datetime.html#timedelta-objects) com a diferença da data atual e a data do último acesso. Veja os exemplos de uso do TimeDelta na sua documentação\n",
    "- **is_accessible**: Método que verdadeiro se o domínio estiver acessível"
   ]
  },
  {
   "cell_type": "markdown",
   "metadata": {},
   "source": [
    "Os métodos `count_fetched_page` e `has_finished_crawl` já estão implementados. Execute o teste unitário a seguir. Veja que o comando abaixo executa o teste unitário presente no arquivo `crawler/scheduler_test.py`. Analise-o para entender como implementamos testes unitários."
   ]
  },
  {
   "cell_type": "code",
   "execution_count": 2,
   "metadata": {},
   "outputs": [
    {
     "name": "stdout",
     "output_type": "stream",
     "text": [
      "Verificando acesso a um dominio já requisitado (após espera)\n",
      "aguardando 10 segundos...\n",
      ".\n",
      "----------------------------------------------------------------------\n",
      "Ran 1 test in 10.010s\n",
      "\n",
      "OK\n"
     ]
    }
   ],
   "source": [
    "!python3 -m crawler.scheduler_test DomainTest.test_domain"
   ]
  },
  {
   "cell_type": "markdown",
   "metadata": {},
   "source": [
    "**Atividade 2 - métodos `__hash__` e `__eq__` da classe `Domain`**: A fila será implementada por um dicionario ordenado ([OrderedDict](https://docs.python.org/2/library/collections.html#collections.OrderedDict)) em que a chave será um objeto da classe domínio e o valor serão uma lista de URLs. Para que seja possível a busca do domínio, você deverá implementar os métodos `__hash__` e `__eq__` de forma similar ao seguinte exemplo: "
   ]
  },
  {
   "cell_type": "code",
   "execution_count": 3,
   "metadata": {},
   "outputs": [
    {
     "name": "stdout",
     "output_type": "stream",
     "text": [
      "True\n"
     ]
    }
   ],
   "source": [
    "from collections import OrderedDict\n",
    "class Xuxu():\n",
    "    def __str__(self):\n",
    "        return \"xuxuuu\"\n",
    "    \n",
    "    def __hash__(self):\n",
    "        return hash(\"xuxu\")\n",
    "    def __eq__(self, x):\n",
    "        return x == \"xuxu\"\n",
    "d = OrderedDict()\n",
    "d[Xuxu()] = 'A'\n",
    "print(\"xuxu\" in d)"
   ]
  },
  {
   "cell_type": "markdown",
   "metadata": {},
   "source": [
    "No nosso caso, deve ser permitido fazer a busca no dicionário pelo nome do domínio ou pelo objeto, ou seja, após a implementação desta atividade, o seguinte código irá funcionar corretamente:"
   ]
  },
  {
   "cell_type": "code",
   "execution_count": 4,
   "metadata": {},
   "outputs": [
    {
     "name": "stdout",
     "output_type": "stream",
     "text": [
      "oi\n",
      "oi\n"
     ]
    }
   ],
   "source": [
    "from crawler.domain import Domain\n",
    "from collections import OrderedDict\n",
    "\n",
    "obj_domain = Domain(\"oi.com\",10)\n",
    "dic_x = OrderedDict()\n",
    "dic_x[obj_domain] = \"lala\"\n",
    "dic_x[\"oi.com\"] = \"oi\"\n",
    "\n",
    "#abaixo, em ambos os casos, será encontrado/impresso a string \"oi\"\n",
    "print(dic_x[\"oi.com\"])\n",
    "print(dic_x[obj_domain])"
   ]
  },
  {
   "cell_type": "markdown",
   "metadata": {},
   "source": [
    "Lembre-se que, em nosso caso, o parametro do método `__eq__` pode ser um objeto da classe `Domain` ou uma string representando o nome do domínio. Caso faça alguma modificação no código, você deverá reiniciar o kernel para que o efeito seja visto no código acima (para reiniciar, clique em Kernel->Restart). Isso ocorre que, uma vez dado import em um módulo, esse modulo não é alterado no Jupyter caso você faça uma modificação no código."
   ]
  },
  {
   "cell_type": "markdown",
   "metadata": {},
   "source": [
    "## Classe `Scheduler`"
   ]
  },
  {
   "cell_type": "markdown",
   "metadata": {},
   "source": [
    "Agora você irá implementar o escalonador. Essa classe será responsável por gerir as URLs.\n",
    "Para isso, será implementado as filas por servidores conforme apresentado na figura da seção anterior.\n",
    "Para isso, utilizaremos um OrderedDict em que as chaves são os servidores (objeto da classe `Domain`) e o valor será uma lista de tuplas com as URLs e sua profundidade. Com o objetivo de armazenar as URLs de forma estruturada, as mesmas **não serão** string, ao invés disso, serão objetos da classe `ParseResult` - essa classe é retornada do método [urlparse](https://docs.python.org/3/library/urllib.parse.html). Veja um exemplo abaixo.\n",
    "\n"
   ]
  },
  {
   "cell_type": "code",
   "execution_count": 5,
   "metadata": {},
   "outputs": [],
   "source": [
    "from crawler.domain import Domain\n",
    "from crawler.scheduler import Scheduler\n",
    "from urllib.parse import urlparse\n",
    "\n",
    "dict_filas_por_servidor = {Domain(\"www.globo.com\",10):[\n",
    "                                                (urlparse(\"http://www.globo.com/esporte\"),1),\n",
    "                                                (urlparse(\"http://www.globo.com/noticia_um\"),2),\n",
    "                                                (urlparse(\"http://www.globo.com/noticia_dois\"),3),\n",
    "                                                (urlparse(\"http://www.globo.com/noticia_tres\"),3),\n",
    "                                                ],\n",
    "                            Domain(\"www.cnpq.br\",10):[(urlparse(\"http://www.cnpq.br/pesquisadores\"),1),\n",
    "                                               (urlparse(\"http://www.cnpq.br/bolsas\"),1)]\n",
    "                          }"
   ]
  },
  {
   "cell_type": "markdown",
   "metadata": {},
   "source": [
    "Assim, a classe `Scheduler`, no arquivo `scheduler.py` possui os seguintes atributos: \n",
    "\n",
    "- `str_usr_agent`: Nome do `User agent`. Usualmente, é o nome do navegador, no nosso caso, será o nome do coletor (usualmente, terminado em `bot`)\n",
    "- `page_limit`: Número de páginas a serem coletadas\n",
    "- `depth_limit`: Profundidade máxima a ser coletada\n",
    "- `page_count`: Quantidade de páginas já coletadas\n",
    "- `dic_url_per_domain`: Fila de URLs por domínio (explicado anteriormente)\n",
    "- `set_discovered_urls`: Conjunto de URLs descobertas, ou seja, que foi extraída em algum HTML e já adicionadas na fila - mesmo se já ela foi retirada da fila. A URL armazenada deve ser uma string.\n",
    "- `dic_robots_per_domain`: Dicionário armazenando, para cada domínio, o objeto representando as regras obtidas no `robots.txt`"
   ]
  },
  {
   "cell_type": "markdown",
   "metadata": {},
   "source": [
    "**Atividad 3 - Método `can_add_page`**: Esse método irá retornar verdadeiro caso seja possível adicionar a página `obj_url` (objeto da classe ParseResult) que foi coletada na profundidade `depth`. Para que seja possível adicionar na lista, esta pagina não deve ter sido descoberta e nem com a profundidade maior que o limite. Este método será testado por teste unitário apenas após a implementação da adição e obtenção das URLs."
   ]
  },
  {
   "cell_type": "markdown",
   "metadata": {},
   "source": [
    "**Atividade 4 método `add_new_page` - Adicionar nova página**:  Este método retorna falso caso não seja possível adicionar a página (por meio do método `can_add_page`) e verdadeiro, caso contrário. Caso seja possível, deve-se adicionar a url `obj_url` na fila `dic_url_per_domain`. Lembre-se da estrutura do dicionário `dic_url_per_domain`. Não esqueça de armazenar que esta URL já foi descoberta. Este método será testado por teste unitário apenas após a implementação da obtenção das URLs. Lembre-se de como trabalhar com [dicionários](https://daniel-hasan.github.io/cefet-web-grad/classes/python2/#mais-colecoes)"
   ]
  },
  {
   "attachments": {},
   "cell_type": "markdown",
   "metadata": {},
   "source": [
    "**Atividade 5 método `get_next_url` - obtém a próxima URL da fila**: Este método retona uma tupla `url,profundade` da próxima URL a ser coletada por meio da fila `dic_url_per_domain` retirando este item da fila. Lembre-se que: \n",
    "    \n",
    "- Ele deverá retornar a primeira URL do primeiro servidor que estiver acessível. \n",
    "- Você deve indicar que o servidor foi acessado \n",
    "- Caso a fila deste servidor esteja vazia, elimine-o do dicionário\n",
    "- Caso não encontre a URL, [coloque a Thread para esperar](https://docs.python.org/2/library/time.html#time.sleep) e, logo após, procure novamente \n",
    "\n",
    "Logo após, você já pode executar o teste unitário para verificar se a obtenção e adição de URLs está correta. Caso haja algum problema, existem já alguns prints comentados no código, descomente-os para verificar se o fluxo está ocorrendo da forma correta. Você deverá entregar sem a exibição desses prints (caso contrário, perderá pontos)."
   ]
  },
  {
   "cell_type": "code",
   "execution_count": 4,
   "metadata": {},
   "outputs": [
    {
     "name": "stdout",
     "output_type": "stream",
     "text": [
      "Verificação da ordem das URLs...\n",
      "Resgatando a segunda página do mesmo dominio...\n",
      "Tempo esperado: 20 segundos\n",
      ".\n",
      "----------------------------------------------------------------------\n",
      "Ran 1 test in 20.019s\n",
      "\n",
      "OK\n"
     ]
    }
   ],
   "source": [
    "!python3 -m crawler.scheduler_test SchedulerTest.test_add_remove_page"
   ]
  },
  {
   "cell_type": "markdown",
   "metadata": {},
   "source": [
    "**Atividade 6 método `can_fetch_page`**: Este método deve retornar verdadeiro caso a url (Objeto `ParseResult`), passada como parâmetro, pode ser coletada de acordo com o `Robots.txt` do domínio. Para isso, você deve usar o [`RobotFileParser`](https://docs.python.org/3/library/urllib.robotparser.html) para requisitar a URL do `robots.txt` deste domínio. Por razões de performance, você só poderá requisitar o robots.txt uma única vez por domínio. Assim, use o `dic_robots_per_domain` apropriadamente. Execute o teste unitário abaixo para verificar seu funcionamento. "
   ]
  },
  {
   "cell_type": "code",
   "execution_count": 2,
   "metadata": {},
   "outputs": [
    {
     "name": "stdout",
     "output_type": "stream",
     "text": [
      ".\n",
      "----------------------------------------------------------------------\n",
      "Ran 1 test in 0.946s\n",
      "\n",
      "OK\n"
     ]
    }
   ],
   "source": [
    "!python3 -m crawler.scheduler_test SchedulerTest.test_can_fetch"
   ]
  },
  {
   "cell_type": "markdown",
   "metadata": {},
   "source": [
    "**Atividade 7 - Inicialização das sementes no construtor**: No construtor da classe `Scheduler` você deve adicionar as páginas sementes na fila. Tais sementes são passadas pelo parametro `arr_urls_seeds` do construtor. "
   ]
  },
  {
   "cell_type": "code",
   "execution_count": 5,
   "metadata": {},
   "outputs": [
    {
     "name": "stdout",
     "output_type": "stream",
     "text": [
      ".\n",
      "----------------------------------------------------------------------\n",
      "Ran 1 test in 0.000s\n",
      "\n",
      "OK\n"
     ]
    }
   ],
   "source": [
    "!python3 -m crawler.scheduler_test SchedulerTest.test_init"
   ]
  },
  {
   "cell_type": "markdown",
   "metadata": {},
   "source": [
    "Logo após, utize a anotação @synchronized aonde julgar necessário para transformar em ThreadSafe."
   ]
  },
  {
   "cell_type": "markdown",
   "metadata": {},
   "source": [
    "## PageFetcher"
   ]
  },
  {
   "cell_type": "markdown",
   "metadata": {},
   "source": [
    "**Atividade 8 - Efetuar a requisição - método `request_url`:** Neste método você irá fazer a requisição usando a api [requests](https://requests.readthedocs.io/en/master/). Além disso, deve-se informar no cabeçalho (em `User-Agent`) o nome do coletor. O método deverá retornar o conteúdo (em binário) apenas se o conteúdo for HTML (ver no cabeçalho da resposta o tipo do conteúdo). Caso não seja, ele deverá retornar `None`. "
   ]
  },
  {
   "cell_type": "code",
   "execution_count": 4,
   "metadata": {},
   "outputs": [
    {
     "name": "stdout",
     "output_type": "stream",
     "text": [
      "/usr/lib/python3/dist-packages/requests/auth.py:49: DeprecationWarning: Non-string passwords will no longer be supported in Requests 3.0.0. Please convert the object you've passed in (<class 'NoneType'>) to a string or bytes object in the near future to avoid problems.\n",
      "  warnings.warn(\n",
      "https://www.google.com.br/ text/html; charset=ISO-8859-1\n",
      "True\n",
      "https://releases.jquery.com/ text/html; charset=UTF-8\n",
      "True\n",
      "F\n",
      "======================================================================\n",
      "FAIL: test_request_url (__main__.PageFetcherTest)\n",
      "----------------------------------------------------------------------\n",
      "Traceback (most recent call last):\n",
      "  File \"/home/aluno/Downloads/ri-crawler-master/crawler/page_fetcher_test.py\", line 24, in test_request_url\n",
      "    self.assertIsNone(strb_jquery, 'Ao ser requisitado alguma URL de um recurso que não é HTML, deve-se retornar None')\n",
      "AssertionError: b'\\n<!doctype html>\\n<html class=\"no-js\" lang=\"en-US\">\\n<head data-live-domain=\"releases.jquery.com\">\\n\\t<meta charset=\"utf-8\">\\n\\t<meta http-equiv=\"X-UA-Compatible\" content=\"IE=edge\">\\n\\n\\t<title>jQuery CDN</title>\\n\\n\\t<meta name=\"author\" content=\"JS Foundation - js.foundation\">\\n\\t<meta name=\"description\" content=\"\">\\n\\n\\t<meta name=\"viewport\" content=\"width=device-width\">\\n\\n\\t<link rel=\"shortcut icon\" href=\"//releases.jquery.com/jquery-wp-content/themes/releases.jquery.com/i/favicon.ico\">\\n\\n\\t<link rel=\"stylesheet\" href=\"//releases.jquery.com/jquery-wp-content/themes/jquery/css/base.css?v=4\">\\n\\t<link rel=\"stylesheet\" href=\"//releases.jquery.com/jquery-wp-content/themes/releases.jquery.com/style.css?v=2\">\\n\\n\\t<script src=\"//releases.jquery.com/jquery-wp-content/themes/jquery/js/modernizr.custom.2.8.3.min.js\"></script>\\n\\n\\t<script src=\"https://code.jquery.com/jquery-1.11.3.js\"></script>\\n\\n\\t<script src=\"//releases.jquery.com/jquery-wp-content/themes/jquery/js/plugins.js\"></script>\\n\\t<script src=\"//releases.jquery.com/jquery-wp-content/themes/jquery/js/main.js\"></script>\\n\\n\\t<script src=\"https://use.typekit.net/wde1aof.js\"></script>\\n\\t<script>try{Typekit.load();}catch(e){}</script>\\n\\t<!-- at the end of the HEAD -->\\n\\t<link rel=\"stylesheet\" href=\"https://cdn.jsdelivr.net/npm/docsearch.js@2/dist/cdn/docsearch.min.css\" />\\n\\t<link rel=\"stylesheet\" href=\"//releases.jquery.com/jquery-wp-content/themes/jquery/css/docsearch.css\">\\n\\n<link rel=\\'stylesheet\\' id=\\'jquery-ui-css\\'  href=\\'//code.jquery.com/ui/1.11.4/themes/ui-lightness/jquery-ui.css?ver=4.5.2\\' type=\\'text/css\\' media=\\'all\\' />\\n<link rel=\\'stylesheet\\' id=\\'sri-modal-css\\'  href=\\'//releases.jquery.com/jquery-wp-content/themes/jquery/css/sri-modal.css?ver=4.5.2\\' type=\\'text/css\\' media=\\'all\\' />\\n<script type=\\'text/javascript\\' src=\\'//code.jquery.com/ui/1.11.4/jquery-ui.min.js?ver=4.5.2\\'></script>\\n<script type=\\'text/javascript\\' src=\\'//releases.jquery.com/jquery-wp-content/themes/jquery/js/clipboard-polyfill.js?ver=4.5.2\\'></script>\\n<script type=\\'text/javascript\\' src=\\'//releases.jquery.com/jquery-wp-content/themes/jquery/js/sri-modal.js?ver=4.5.2\\'></script>\\n<link rel=\\'https://api.w.org/\\' href=\\'//releases.jquery.com/wp-json/\\' />\\n<meta name=\"generator\" content=\"WordPress 4.5.2\" />\\n<link rel=\"alternate\" type=\"application/json+oembed\" href=\"//releases.jquery.com/wp-json/oembed/1.0/embed?url=https%3A%2F%2Freleases.jquery.com%2F\" />\\n<link rel=\"alternate\" type=\"text/xml+oembed\" href=\"//releases.jquery.com/wp-json/oembed/1.0/embed?url=https%3A%2F%2Freleases.jquery.com%2F&#038;format=xml\" />\\n\\n</head>\\n<body class=\"jquery home page page-id-3 page-template-default page-slug-index single-author singular\">\\n\\n<header>\\n\\t<section id=\"global-nav\">\\n\\t\\t<nav>\\n\\t\\t\\t<div class=\"constrain\">\\n\\t\\t\\t\\t<ul class=\"projects\">\\n\\t\\t\\t\\t\\t<li class=\"project jquery\"><a href=\"https://jquery.com/\" title=\"jQuery\">jQuery</a></li>\\n\\t\\t\\t\\t\\t<li class=\"project jquery-ui\"><a href=\"https://jqueryui.com/\" title=\"jQuery UI\">jQuery UI</a></li>\\n\\t\\t\\t\\t\\t<li class=\"project jquery-mobile\"><a href=\"https://jquerymobile.com/\" title=\"jQuery Mobile\">jQuery Mobile</a></li>\\n\\t\\t\\t\\t\\t<li class=\"project sizzlejs\"><a href=\"https://sizzlejs.com/\" title=\"Sizzle\">Sizzle</a></li>\\n\\t\\t\\t\\t\\t<li class=\"project qunitjs\"><a href=\"https://qunitjs.com/\" title=\"QUnit\">QUnit</a></li>\\n\\t\\t\\t\\t</ul>\\n\\t\\t\\t\\t<ul class=\"links\">\\n\\t\\t\\t\\t\\t<li><a href=\"https://plugins.jquery.com/\">Plugins</a></li>\\n\\t\\t\\t\\t\\t<li class=\"dropdown\"><a href=\"https://contribute.jquery.org/\">Contribute</a>\\n\\t\\t\\t\\t\\t\\t<ul>\\n\\t\\t\\t\\t\\t\\t\\t<li><a href=\"https://js.foundation/CLA\">CLA</a></li>\\n\\t\\t\\t\\t\\t\\t\\t<li><a href=\"https://contribute.jquery.org/style-guide/\">Style Guides</a></li>\\n\\t\\t\\t\\t\\t\\t\\t<li><a href=\"https://contribute.jquery.org/triage/\">Bug Triage</a></li>\\n\\t\\t\\t\\t\\t\\t\\t<li><a href=\"https://contribute.jquery.org/code/\">Code</a></li>\\n\\t\\t\\t\\t\\t\\t\\t<li><a href=\"https://contribute.jquery.org/documentation/\">Documentation</a></li>\\n\\t\\t\\t\\t\\t\\t\\t<li><a href=\"https://contribute.jquery.org/web-sites/\">Web Sites</a></li>\\n\\t\\t\\t\\t\\t\\t</ul>\\n\\t\\t\\t\\t\\t</li>\\n\\t\\t\\t\\t\\t<li class=\"dropdown\"><a href=\"https://js.foundation/events\">Events</a>\\n\\t\\t\\t\\t\\t\\t<ul class=\"wide\">\\n\\t\\t\\t\\t\\t\\t\\t\\t\\t\\t\\t\\t\\t\\t\\t\\t\\t\\t</ul>\\n\\t\\t\\t\\t\\t</li>\\n\\t\\t\\t\\t\\t<li class=\"dropdown\"><a href=\"https://jquery.org/support/\">Support</a>\\n\\t\\t\\t\\t\\t\\t<ul>\\n\\t\\t\\t\\t\\t\\t\\t<li><a href=\"https://learn.jquery.com/\">Learning Center</a></li>\\n\\t\\t\\t\\t\\t\\t\\t<li><a href=\"https://irc.jquery.org/\">IRC/Chat</a></li>\\n\\t\\t\\t\\t\\t\\t\\t<li><a href=\"https://forum.jquery.com/\">Forums</a></li>\\n\\t\\t\\t\\t\\t\\t\\t<li><a href=\"https://stackoverflow.com/tags/jquery/info\">Stack Overflow</a></li>\\n\\t\\t\\t\\t\\t\\t\\t<li><a href=\"https://jquery.org/support/\">Commercial Support</a></li>\\n\\t\\t\\t\\t\\t\\t</ul>\\n\\t\\t\\t\\t\\t</li>\\n\\t\\t\\t\\t\\t<li class=\"dropdown\"><a href=\"https://js.foundation/\">JS Foundation</a>\\n\\t\\t\\t\\t\\t\\t<ul>\\n\\t\\t\\t\\t\\t\\t\\t<li><a href=\"https://js.foundation/about/join\">Join</a></li>\\n\\t\\t\\t\\t\\t\\t\\t<li><a href=\"https://js.foundation/about/members\">Members</a></li>\\n\\t\\t\\t\\t\\t\\t\\t<li><a href=\"https://js.foundation/about/leadership\">Leadership</a></li>\\n\\t\\t\\t\\t\\t\\t\\t<li><a href=\"https://js.foundation/community/code-of-conduct\">Conduct</a></li>\\n\\t\\t\\t\\t\\t\\t\\t<li><a href=\"https://js.foundation/about/donate\">Donate</a></li>\\n\\t\\t\\t\\t\\t\\t</ul>\\n\\t\\t\\t\\t\\t</li>\\n\\t\\t\\t\\t</ul>\\n\\t\\t\\t</div>\\n\\t\\t</nav>\\n\\t</section>\\n</header>\\n\\n<div id=\"container\">\\n\\t<div id=\"logo-events\" class=\"constrain clearfix\">\\n\\t\\t<h2 class=\"logo\"><a href=\"/\" title=\"jQuery CDN\">jQuery CDN</a></h2>\\n\\n\\t\\t<aside>\\n\\t\\t\\t<div id=\"broadcast\"></div>\\n\\t\\t</aside>\\n\\t</div>\\n\\n\\t<nav id=\"main\" class=\"constrain clearfix\">\\n\\t\\t<div class=\"menu-top-container\">\\n\\t<ul id=\"menu-top\" class=\"menu\">\\n<li class=\"menu-item\"><a href=\"/jquery/\">jQuery Core</a></li>\\n<li class=\"menu-item\"><a href=\"/ui/\">jQuery UI</a></li>\\n<li class=\"menu-item\"><a href=\"/mobile/\">jQuery Mobile</a></li>\\n<li class=\"menu-item\"><a href=\"/color/\">jQuery Color</a></li>\\n<li class=\"menu-item\"><a href=\"/qunit/\">QUnit</a></li>\\n<li class=\"menu-item\"><a href=\"/pep/\">PEP</a></li>\\n\\t</ul>\\n</div>\\n\\n\\t\\t\\t</nav>\\n\\n\\t<div id=\"content-wrapper\" class=\"clearfix row\">\\n\\n\\n<div id=\"sri-modal-template\" title=\"Code Integration\">\\n\\t<div class=\"sri-modal-link\">\\n\\t\\t<code>&lt;script\\n\\t\\t\\t&nbsp;&nbsp;<span>src=\"{{link}}\"</span>\\n\\t\\t\\t&nbsp;&nbsp;<span>integrity=\"{{hash}}\"</span>\\n\\t\\t\\t&nbsp;&nbsp;<span>crossorigin=\"anonymous\"&gt;&lt;/script&gt;</span>\\n\\t\\t</code>\\n\\n\\t\\t<button class=\"sri-modal-copy-btn\" title=\"Copy to clipboard!\"\\n\\t\\t\\tdata-clipboard-text=\\'&lt;script src=\"{{link}}\" integrity=\"{{hash}}\" crossorigin=\"anonymous\"&gt;&lt;/script&gt;\\'>\\n\\t\\t\\t<i class=\"sri-modal-icon-copy icon-copy\"></i>\\n\\t\\t</button>\\n\\t</div>\\n\\n\\t<div class=\"sri-modal-info\">\\n\\t\\tThe <code>integrity</code> and <code>crossorigin</code> attributes are used for\\n\\t\\t<a href=\"https://www.w3.org/TR/SRI/\" target=\"_blank\">Subresource Integrity (SRI) checking</a>.\\n\\t\\tThis allows browsers to ensure that resources hosted on third-party servers have\\n\\t\\tnot been tampered with. Use of SRI is recommended as a best-practice, whenever\\n\\t\\tlibraries are loaded from a third-party source. Read more at <a href=\"https://www.srihash.org/\" target=\"_blank\">srihash.org</a>\\n\\t</div>\\n</div>\\n\\n<div class=\"content-full twelve columns\">\\n\\t<div id=\"content\">\\n\\t\\t\\t\\t<h1 class=\"entry-title\">jQuery CDN &#8211; Latest Stable Versions</h1>\\n\\t\\t<div class=\"powered-by\">Powered by <a href=\"https://www.stackpath.com\"><img src=\"/jquery-wp-content/themes/jquery/images/stackpath.png\"></a></div>\\n\\t\\t<hr>\\n\\t\\t\\n\\t\\t\\n<h2>jQuery Core</h2>\\n<p>\\n\\tShowing the latest stable release in each major branch.\\n\\t<a href=\"/jquery/\">See all versions of jQuery Core</a>.\\n</p>\\n\\n<h3>jQuery 3.x</h3>\\n<ul>\\n\\t<li>jQuery Core 3.6.4 - <a\\n\\t\\t\\tclass=\\'open-sri-modal\\'\\n\\t\\t\\thref=\\'https://code.jquery.com/jquery-3.6.4.js\\'\\n\\t\\t\\tdata-hash=\\'sha256-a9jBBRygX1Bh5lt8GZjXDzyOB+bWve9EiO7tROUtj/E=\\'\\n\\t\\t>uncompressed</a>, <a\\n\\t\\t\\tclass=\\'open-sri-modal\\'\\n\\t\\t\\thref=\\'https://code.jquery.com/jquery-3.6.4.min.js\\'\\n\\t\\t\\tdata-hash=\\'sha256-oP6HI9z1XaZNBrJURtCoUT5SUnxFr8s3BzRl+cbzUq8=\\'\\n\\t\\t>minified</a>, <a\\n\\t\\t\\tclass=\\'open-sri-modal\\'\\n\\t\\t\\thref=\\'https://code.jquery.com/jquery-3.6.4.slim.js\\'\\n\\t\\t\\tdata-hash=\\'sha256-dWvV84T6BhzO4vG6gWhsWVKVoa4lVmLnpBOZh/CAHU4=\\'\\n\\t\\t>slim</a>, <a\\n\\t\\t\\tclass=\\'open-sri-modal\\'\\n\\t\\t\\thref=\\'https://code.jquery.com/jquery-3.6.4.slim.min.js\\'\\n\\t\\t\\tdata-hash=\\'sha256-a2yjHM4jnF9f54xUQakjZGaqYs/V1CYvWpoqZzC2/Bw=\\'\\n\\t\\t>slim minified</a></li>\\n</ul>\\n<h3>jQuery 2.x</h3>\\n<ul>\\n\\t<li>jQuery Core 2.2.4 - <a\\n\\t\\t\\tclass=\\'open-sri-modal\\'\\n\\t\\t\\thref=\\'https://code.jquery.com/jquery-2.2.4.js\\'\\n\\t\\t\\tdata-hash=\\'sha256-iT6Q9iMJYuQiMWNd9lDyBUStIq/8PuOW33aOqmvFpqI=\\'\\n\\t\\t>uncompressed</a>, <a\\n\\t\\t\\tclass=\\'open-sri-modal\\'\\n\\t\\t\\thref=\\'https://code.jquery.com/jquery-2.2.4.min.js\\'\\n\\t\\t\\tdata-hash=\\'sha256-BbhdlvQf/xTY9gja0Dq3HiwQF8LaCRTXxZKRutelT44=\\'\\n\\t\\t>minified</a></li>\\n</ul>\\n<h3>jQuery 1.x</h3>\\n<ul>\\n\\t<li>jQuery Core 1.12.4 - <a\\n\\t\\t\\tclass=\\'open-sri-modal\\'\\n\\t\\t\\thref=\\'https://code.jquery.com/jquery-1.12.4.js\\'\\n\\t\\t\\tdata-hash=\\'sha256-Qw82+bXyGq6MydymqBxNPYTaUXXq7c8v3CwiYwLLNXU=\\'\\n\\t\\t>uncompressed</a>, <a\\n\\t\\t\\tclass=\\'open-sri-modal\\'\\n\\t\\t\\thref=\\'https://code.jquery.com/jquery-1.12.4.min.js\\'\\n\\t\\t\\tdata-hash=\\'sha256-ZosEbRLbNQzLpnKIkEdrPv7lOy9C27hHQ+Xp8a4MxAQ=\\'\\n\\t\\t>minified</a></li>\\n</ul>\\n\\n<h3>jQuery Migrate</h3>\\n<ul>\\n\\t<li>jQuery Migrate 3.4.1 - <a\\n\\t\\t\\tclass=\\'open-sri-modal\\'\\n\\t\\t\\thref=\\'https://code.jquery.com/jquery-migrate-3.4.1.js\\'\\n\\t\\t\\tdata-hash=\\'sha256-CfQXwuZDtzbBnpa5nhZmga8QAumxkrhOToWweU52T38=\\'\\n\\t\\t>uncompressed</a>, <a\\n\\t\\t\\tclass=\\'open-sri-modal\\'\\n\\t\\t\\thref=\\'https://code.jquery.com/jquery-migrate-3.4.1.min.js\\'\\n\\t\\t\\tdata-hash=\\'sha256-UnTxHm+zKuDPLfufgEMnKGXDl6fEIjtM+n1Q6lL73ok=\\'\\n\\t\\t>minified</a></li>\\n</ul>\\n\\n<h2>jQuery UI</h2>\\n<p>\\n\\tShowing the latest stable release for the current and legacy release families.\\n\\t<a href=\"/ui/\">See all versions of jQuery UI</a>.\\n</p>\\n\\n\\t\\t<h3>jQuery UI 1.13</h3>\\n<ul>\\n\\t<li>jQuery UI 1.13.2 - <a\\n\\t\\t\\tclass=\\'open-sri-modal\\'\\n\\t\\t\\thref=\\'https://code.jquery.com/ui/1.13.2/jquery-ui.js\\'\\n\\t\\t\\tdata-hash=\\'sha256-xLD7nhI62fcsEZK2/v8LsBcb4lG7dgULkuXoXB/j91c=\\'\\n\\t\\t>uncompressed</a>, <a\\n\\t\\t\\tclass=\\'open-sri-modal\\'\\n\\t\\t\\thref=\\'https://code.jquery.com/ui/1.13.2/jquery-ui.min.js\\'\\n\\t\\t\\tdata-hash=\\'sha256-lSjKY0/srUM9BE3dPm+c4fBo1dky2v27Gdjm2uoZaL0=\\'\\n\\t\\t>minified</a></li>\\n\\t<li>Themes:\\n\\t\\t\\t<a href=\\'https://code.jquery.com/ui/1.13.2/themes/base/jquery-ui.css\\'>base</a>\\n\\t\\t\\t<a href=\\'https://code.jquery.com/ui/1.13.2/themes/black-tie/jquery-ui.css\\'>black-tie</a>\\n\\t\\t\\t<a href=\\'https://code.jquery.com/ui/1.13.2/themes/blitzer/jquery-ui.css\\'>blitzer</a>\\n\\t\\t\\t<a href=\\'https://code.jquery.com/ui/1.13.2/themes/cupertino/jquery-ui.css\\'>cupertino</a>\\n\\t\\t\\t<a href=\\'https://code.jquery.com/ui/1.13.2/themes/dark-hive/jquery-ui.css\\'>dark-hive</a>\\n\\t\\t\\t<a href=\\'https://code.jquery.com/ui/1.13.2/themes/dot-luv/jquery-ui.css\\'>dot-luv</a>\\n\\t\\t\\t<a href=\\'https://code.jquery.com/ui/1.13.2/themes/eggplant/jquery-ui.css\\'>eggplant</a>\\n\\t\\t\\t<a href=\\'https://code.jquery.com/ui/1.13.2/themes/excite-bike/jquery-ui.css\\'>excite-bike</a>\\n\\t\\t\\t<a href=\\'https://code.jquery.com/ui/1.13.2/themes/flick/jquery-ui.css\\'>flick</a>\\n\\t\\t\\t<a href=\\'https://code.jquery.com/ui/1.13.2/themes/hot-sneaks/jquery-ui.css\\'>hot-sneaks</a>\\n\\t\\t\\t<a href=\\'https://code.jquery.com/ui/1.13.2/themes/humanity/jquery-ui.css\\'>humanity</a>\\n\\t\\t\\t<a href=\\'https://code.jquery.com/ui/1.13.2/themes/le-frog/jquery-ui.css\\'>le-frog</a>\\n\\t\\t\\t<a href=\\'https://code.jquery.com/ui/1.13.2/themes/mint-choc/jquery-ui.css\\'>mint-choc</a>\\n\\t\\t\\t<a href=\\'https://code.jquery.com/ui/1.13.2/themes/overcast/jquery-ui.css\\'>overcast</a>\\n\\t\\t\\t<a href=\\'https://code.jquery.com/ui/1.13.2/themes/pepper-grinder/jquery-ui.css\\'>pepper-grinder</a>\\n\\t\\t\\t<a href=\\'https://code.jquery.com/ui/1.13.2/themes/redmond/jquery-ui.css\\'>redmond</a>\\n\\t\\t\\t<a href=\\'https://code.jquery.com/ui/1.13.2/themes/smoothness/jquery-ui.css\\'>smoothness</a>\\n\\t\\t\\t<a href=\\'https://code.jquery.com/ui/1.13.2/themes/south-street/jquery-ui.css\\'>south-street</a>\\n\\t\\t\\t<a href=\\'https://code.jquery.com/ui/1.13.2/themes/start/jquery-ui.css\\'>start</a>\\n\\t\\t\\t<a href=\\'https://code.jquery.com/ui/1.13.2/themes/sunny/jquery-ui.css\\'>sunny</a>\\n\\t\\t\\t<a href=\\'https://code.jquery.com/ui/1.13.2/themes/swanky-purse/jquery-ui.css\\'>swanky-purse</a>\\n\\t\\t\\t<a href=\\'https://code.jquery.com/ui/1.13.2/themes/trontastic/jquery-ui.css\\'>trontastic</a>\\n\\t\\t\\t<a href=\\'https://code.jquery.com/ui/1.13.2/themes/ui-darkness/jquery-ui.css\\'>ui-darkness</a>\\n\\t\\t\\t<a href=\\'https://code.jquery.com/ui/1.13.2/themes/ui-lightness/jquery-ui.css\\'>ui-lightness</a>\\n\\t\\t\\t<a href=\\'https://code.jquery.com/ui/1.13.2/themes/vader/jquery-ui.css\\'>vader</a>\\n\\t</li>\\n</ul>\\n\\n\\t<h3>jQuery UI 1.12</h3>\\n<ul>\\n\\t<li>jQuery UI 1.12.1 - <a\\n\\t\\t\\tclass=\\'open-sri-modal\\'\\n\\t\\t\\thref=\\'https://code.jquery.com/ui/1.12.1/jquery-ui.js\\'\\n\\t\\t\\tdata-hash=\\'sha256-T0Vest3yCU7pafRw9r+settMBX6JkKN06dqBnpQ8d30=\\'\\n\\t\\t>uncompressed</a>, <a\\n\\t\\t\\tclass=\\'open-sri-modal\\'\\n\\t\\t\\thref=\\'https://code.jquery.com/ui/1.12.1/jquery-ui.min.js\\'\\n\\t\\t\\tdata-hash=\\'sha256-VazP97ZCwtekAsvgPBSUwPFKdrwD3unUfSGVYrahUqU=\\'\\n\\t\\t>minified</a></li>\\n\\t<li>Themes:\\n\\t\\t\\t<a href=\\'https://code.jquery.com/ui/1.12.1/themes/base/jquery-ui.css\\'>base</a>\\n\\t\\t\\t<a href=\\'https://code.jquery.com/ui/1.12.1/themes/black-tie/jquery-ui.css\\'>black-tie</a>\\n\\t\\t\\t<a href=\\'https://code.jquery.com/ui/1.12.1/themes/blitzer/jquery-ui.css\\'>blitzer</a>\\n\\t\\t\\t<a href=\\'https://code.jquery.com/ui/1.12.1/themes/cupertino/jquery-ui.css\\'>cupertino</a>\\n\\t\\t\\t<a href=\\'https://code.jquery.com/ui/1.12.1/themes/dark-hive/jquery-ui.css\\'>dark-hive</a>\\n\\t\\t\\t<a href=\\'https://code.jquery.com/ui/1.12.1/themes/dot-luv/jquery-ui.css\\'>dot-luv</a>\\n\\t\\t\\t<a href=\\'https://code.jquery.com/ui/1.12.1/themes/eggplant/jquery-ui.css\\'>eggplant</a>\\n\\t\\t\\t<a href=\\'https://code.jquery.com/ui/1.12.1/themes/excite-bike/jquery-ui.css\\'>excite-bike</a>\\n\\t\\t\\t<a href=\\'https://code.jquery.com/ui/1.12.1/themes/flick/jquery-ui.css\\'>flick</a>\\n\\t\\t\\t<a href=\\'https://code.jquery.com/ui/1.12.1/themes/hot-sneaks/jquery-ui.css\\'>hot-sneaks</a>\\n\\t\\t\\t<a href=\\'https://code.jquery.com/ui/1.12.1/themes/humanity/jquery-ui.css\\'>humanity</a>\\n\\t\\t\\t<a href=\\'https://code.jquery.com/ui/1.12.1/themes/le-frog/jquery-ui.css\\'>le-frog</a>\\n\\t\\t\\t<a href=\\'https://code.jquery.com/ui/1.12.1/themes/mint-choc/jquery-ui.css\\'>mint-choc</a>\\n\\t\\t\\t<a href=\\'https://code.jquery.com/ui/1.12.1/themes/overcast/jquery-ui.css\\'>overcast</a>\\n\\t\\t\\t<a href=\\'https://code.jquery.com/ui/1.12.1/themes/pepper-grinder/jquery-ui.css\\'>pepper-grinder</a>\\n\\t\\t\\t<a href=\\'https://code.jquery.com/ui/1.12.1/themes/redmond/jquery-ui.css\\'>redmond</a>\\n\\t\\t\\t<a href=\\'https://code.jquery.com/ui/1.12.1/themes/smoothness/jquery-ui.css\\'>smoothness</a>\\n\\t\\t\\t<a href=\\'https://code.jquery.com/ui/1.12.1/themes/south-street/jquery-ui.css\\'>south-street</a>\\n\\t\\t\\t<a href=\\'https://code.jquery.com/ui/1.12.1/themes/start/jquery-ui.css\\'>start</a>\\n\\t\\t\\t<a href=\\'https://code.jquery.com/ui/1.12.1/themes/sunny/jquery-ui.css\\'>sunny</a>\\n\\t\\t\\t<a href=\\'https://code.jquery.com/ui/1.12.1/themes/swanky-purse/jquery-ui.css\\'>swanky-purse</a>\\n\\t\\t\\t<a href=\\'https://code.jquery.com/ui/1.12.1/themes/trontastic/jquery-ui.css\\'>trontastic</a>\\n\\t\\t\\t<a href=\\'https://code.jquery.com/ui/1.12.1/themes/ui-darkness/jquery-ui.css\\'>ui-darkness</a>\\n\\t\\t\\t<a href=\\'https://code.jquery.com/ui/1.12.1/themes/ui-lightness/jquery-ui.css\\'>ui-lightness</a>\\n\\t\\t\\t<a href=\\'https://code.jquery.com/ui/1.12.1/themes/vader/jquery-ui.css\\'>vader</a>\\n\\t</li>\\n</ul>\\n\\n<h2>jQuery Mobile</h2>\\n<p>\\n\\tShowing the latest stable release for jQuery Mobile.\\n\\t<a href=\"/mobile/\">See all versions of jQuery Mobile</a>.\\n</p>\\n<ul>\\n\\t<li>\\n\\tjQuery Mobile 1.4.5 -\\n\\t<a\\n\\t\\t\\tclass=\\'open-sri-modal\\'\\n\\t\\t\\thref=\\'https://code.jquery.com/mobile/1.4.5/jquery.mobile-1.4.5.js\\'\\n\\t\\t\\tdata-hash=\\'sha256-1PYCpx/EXA36KN1NKrK7auaTylVyk01D98R7Ccf04Bc=\\'\\n\\t\\t>uncompressed</a>,\\n\\t<a\\n\\t\\t\\tclass=\\'open-sri-modal\\'\\n\\t\\t\\thref=\\'https://code.jquery.com/mobile/1.4.5/jquery.mobile-1.4.5.min.js\\'\\n\\t\\t\\tdata-hash=\\'sha256-Lsk+CDPOzTapLoAzWW0G/WeQeViS3FMzywpzPZV8SXk=\\'\\n\\t\\t>minified</a>,\\n\\t<a href=\\'https://code.jquery.com/mobile/1.4.5/jquery.mobile-1.4.5.min.css\\'>theme</a>\\n\\t\\t(<a href=\\'https://code.jquery.com/mobile/1.4.5/jquery.mobile.structure-1.4.5.min.css\\'>structure only</a>)\\n</li>\\n\\n</ul>\\n\\n<h2>jQuery Color</h2>\\n<p>\\n\\tShowing the latest stable release for jQuery Color.\\n\\t<a href=\"/color/\">See all versions of jQuery Color</a>.\\n</p>\\n<ul>\\n\\t<li>jQuery Color 2.2.0 - <a\\n\\t\\t\\tclass=\\'open-sri-modal\\'\\n\\t\\t\\thref=\\'https://code.jquery.com/color/jquery.color-2.2.0.js\\'\\n\\t\\t\\tdata-hash=\\'sha256-gvMJWDHjgDrVSiN6eBI9h7dRfQmsTTsGU/eTT8vpzNg=\\'\\n\\t\\t>uncompressed</a>, <a\\n\\t\\t\\tclass=\\'open-sri-modal\\'\\n\\t\\t\\thref=\\'https://code.jquery.com/color/jquery.color-2.2.0.min.js\\'\\n\\t\\t\\tdata-hash=\\'sha256-aSe2ZC5QeunlL/w/7PsVKmV+fa0eDbmybn/ptsKHR6I=\\'\\n\\t\\t>minified</a></li>\\n\\t\\t<li>jQuery Color SVG Color Names 2.2.0 - <a\\n\\t\\t\\tclass=\\'open-sri-modal\\'\\n\\t\\t\\thref=\\'https://code.jquery.com/color/jquery.color.svg-names-2.2.0.js\\'\\n\\t\\t\\tdata-hash=\\'sha256-oGkjooVZaxL14M7UTaEwci0DMShyIPMaR8wtfrcIANE=\\'\\n\\t\\t>uncompressed</a>, <a\\n\\t\\t\\tclass=\\'open-sri-modal\\'\\n\\t\\t\\thref=\\'https://code.jquery.com/color/jquery.color.svg-names-2.2.0.min.js\\'\\n\\t\\t\\tdata-hash=\\'sha256-eX9I1Sf6zJj5x4sEDQl362cLpbr5wXdwg+41yuUT4nc=\\'\\n\\t\\t>minified</a></li>\\n\\t\\t<li>jQuery Color With Names (last two together) 2.2.0 - <a\\n\\t\\t\\tclass=\\'open-sri-modal\\'\\n\\t\\t\\thref=\\'https://code.jquery.com/color/jquery.color.plus-names-2.2.0.js\\'\\n\\t\\t\\tdata-hash=\\'sha256-B2NKhQ/4wyx0RUkvxp34OVk2/+J9zwZRpFyQIst5/XY=\\'\\n\\t\\t>uncompressed</a>, <a\\n\\t\\t\\tclass=\\'open-sri-modal\\'\\n\\t\\t\\thref=\\'https://code.jquery.com/color/jquery.color.plus-names-2.2.0.min.js\\'\\n\\t\\t\\tdata-hash=\\'sha256-97quMNaesEFsrV6uexbIR3+D1V1+75CVDXuLBFQ07lA=\\'\\n\\t\\t>minified</a></li>\\n</ul>\\n\\n\\n<h2>QUnit</h2>\\n<p>\\n\\tShowing the latest stable release for QUnit.\\n\\t<a href=\"/qunit/\">See all versions of QUnit</a>.\\n</p>\\n\\n<ul>\\n\\t<li>\\n\\tQUnit 2.19.4 -\\n\\t<a\\n\\t\\t\\tclass=\\'open-sri-modal\\'\\n\\t\\t\\thref=\\'https://code.jquery.com/qunit/qunit-2.19.4.js\\'\\n\\t\\t\\tdata-hash=\\'sha256-ZFjYNVAOk8Ozw+xXXCfNuf87Knngp3BVxFk3lBLD/Uc=\\'\\n\\t\\t>script</a>,\\n\\t<a\\n\\t\\t\\tclass=\\'open-sri-modal\\'\\n\\t\\t\\thref=\\'https://code.jquery.com/qunit/qunit-2.19.4.css\\'\\n\\t\\t\\tdata-hash=\\'sha256-qwmW00heo7d+2GZQ2eKAsTbPZ/Tw5emPGigowFrXpVk=\\'\\n\\t\\t>stylesheet</a>\\n</li>\\n\\n</ul>\\n\\n<h2>PEP</h2>\\n<p>\\n\\tShowing the latest stable release for PEP.\\n\\t<a href=\"/pep/\">See all versions of PEP</a>.\\n</p>\\n\\n<ul>\\n\\t<li>\\n\\tPEP 0.4.3 -\\n\\t<a\\n\\t\\t\\tclass=\\'open-sri-modal\\'\\n\\t\\t\\thref=\\'https://code.jquery.com/pep/0.4.3/pep.js\\'\\n\\t\\t\\tdata-hash=\\'sha256-yZpZULjaPllFSRFfS6JsDvucyRd3yNo7yKc/YsMQAsk=\\'\\n\\t\\t>uncompressed</a>,\\n\\t<a\\n\\t\\t\\tclass=\\'open-sri-modal\\'\\n\\t\\t\\thref=\\'https://code.jquery.com/pep/0.4.3/pep.min.js\\'\\n\\t\\t\\tdata-hash=\\'sha256-ibZWIASZ948myvthXu3qCoTOg8bnJzjMJoYZz1RPg6E=\\'\\n\\t\\t>minified</a>\\n</li>\\n\\n</ul>\\t</div>\\n</div>\\n\\n\\t</div>\\n</div>\\n\\n<footer class=\"clearfix simple\">\\n\\t<div class=\"constrain\">\\n\\t\\t<div class=\"row\">\\n\\t\\t\\t<div class=\"six columns offset-by-three\">\\n\\t\\t\\t\\t<h3><span>Books</span></h3>\\n\\t\\t\\t\\t<ul class=\"books\">\\n\\t\\t\\t\\t\\t<li>\\n\\t\\t\\t\\t\\t\\t<a href=\"https://www.packtpub.com/web-development/learning-jquery-fourth-edition\">\\n\\t\\t\\t\\t\\t\\t\\t<img src=\"//releases.jquery.com/jquery-wp-content/themes/jquery/content/books/learning-jquery-4th-ed.jpg\" alt=\"Learning jQuery 4th Edition by Karl Swedberg and Jonathan Chaffer\" width=\"92\" height=\"114\">\\n\\t\\t\\t\\t\\t\\t\\tLearning jQuery Fourth Edition\\n\\t\\t\\t\\t\\t\\t\\t<cite>Karl Swedberg and Jonathan Chaffer</cite>\\n\\t\\t\\t\\t\\t\\t</a>\\n\\t\\t\\t\\t\\t</li>\\n\\t\\t\\t\\t\\t<li>\\n\\t\\t\\t\\t\\t\\t<a href=\"https://www.manning.com/books/jquery-in-action-third-edition\">\\n\\t\\t\\t\\t\\t\\t\\t<img src=\"//releases.jquery.com/jquery-wp-content/themes/jquery/content/books/jquery-in-action.jpg\" alt=\"jQuery in Action by Bear Bibeault, Yehuda Katz, and Aurelio De Rosa\" width=\"92\" height=\"114\">\\n\\t\\t\\t\\t\\t\\t\\tjQuery in Action\\n\\t\\t\\t\\t\\t\\t\\t<cite>Bear Bibeault, Yehuda Katz, and Aurelio De Rosa</cite>\\n\\t\\t\\t\\t\\t\\t</a>\\n\\t\\t\\t\\t\\t</li>\\n\\t\\t\\t\\t\\t<li>\\n\\t\\t\\t\\t\\t\\t<a href=\"https://www.syncfusion.com/ebooks/jquery\">\\n\\t\\t\\t\\t\\t\\t\\t<img src=\"//releases.jquery.com/jquery-wp-content/themes/jquery/content/books/jquery-succinctly.jpg\" alt=\"jQuery Succinctly by Cody Lindley\" width=\"92\" height=\"114\">\\n\\t\\t\\t\\t\\t\\t\\tjQuery Succinctly\\n\\t\\t\\t\\t\\t\\t\\t<cite>Cody Lindley</cite>\\n\\t\\t\\t\\t\\t\\t</a>\\n\\t\\t\\t\\t\\t</li>\\n\\t\\t\\t\\t</ul>\\n\\t\\t\\t</div>\\n\\t\\t</div>\\n\\n\\t\\t\\n<div id=\"legal\">\\n\\t<ul class=\"footer-site-links\">\\n\\t\\t\\t<li><a class=\"icon-pencil\" href=\"https://learn.jquery.com/\">Learning Center</a></li>\\n\\t\\t\\t<li><a class=\"icon-group\" href=\"https://forum.jquery.com/\">Forum</a></li>\\n\\t\\t\\t<li><a class=\"icon-wrench\" href=\"https://api.jquery.com/\">API</a></li>\\n\\t\\t\\t<li><a class=\"icon-twitter\" href=\"https://twitter.com/jquery\">Twitter</a></li>\\n\\t\\t\\t<li><a class=\"icon-comments\" href=\"https://irc.jquery.org/\">IRC</a></li>\\n\\t\\t\\t<li><a class=\"icon-github\" href=\"https://github.com/jquery\">GitHub</a></li>\\n\\t</ul>\\n\\t<p class=\"copyright\">\\n\\t\\tCopyright 2023 <a href=\"https://openjsf.org/\">OpenJS Foundation</a> and jQuery contributors. All rights reserved. See <a href=\"https://jquery.org/license/\">jQuery License</a> for more information. The <a href=\"https://openjsf.org/\">OpenJS Foundation</a> has registered trademarks and uses trademarks. For a list of trademarks of the <a href=\"https://openjsf.org/\">OpenJS Foundation</a>, please see our <a href=\"https://trademark-policy.openjsf.org/\">Trademark Policy</a> and <a href=\"https://trademark-list.openjsf.org/\">Trademark List</a>. Trademarks and logos not indicated on the <a href=\"https://trademark-list.openjsf.org/\">list of OpenJS Foundation trademarks</a> are trademarks\\xe2\\x84\\xa2 or registered\\xc2\\xae trademarks of their respective holders. Use of them does not imply any affiliation with or endorsement by them. OpenJS Foundation <a href=\"https://terms-of-use.openjsf.org/\">Terms of Use</a>, <a href=\"https://privacy-policy.openjsf.org/\">Privacy</a>, and <a href=\"https://www.linuxfoundation.org/cookies\">Cookie</a> Policies also apply.\\n\\t\\t<span class=\"sponsor-line\"><a href=\"https://www.digitalocean.com\" class=\"do-link\">Web hosting by Digital Ocean</a> | <a href=\"https://www.stackpath.com\" class=\"sp-link\">CDN by StackPath</a></span>\\n\\t</p>\\n</div>\\n\\n\\t</div>\\n</footer>\\n\\n<script type=\\'text/javascript\\' src=\\'//releases.jquery.com/wp-includes/js/comment-reply.min.js?ver=4.5.2\\'></script>\\n<script type=\\'text/javascript\\' src=\\'//releases.jquery.com/wp-includes/js/wp-embed.min.js?ver=4.5.2\\'></script>\\n\\t<!-- at the end of the BODY -->\\n\\t<script type=\"text/javascript\" src=\"https://cdn.jsdelivr.net/npm/docsearch.js@2/dist/cdn/docsearch.min.js\"  onload=\"document.querySelector(\\'input[name=\\\\\\'s\\\\\\']\\') && docsearch({apiKey: \\'3cfde9aca378c8aab554d5bf1b23489b\\',\\n\\t\\tindexName: \\'jquery\\',\\n\\t\\tinputSelector: \\'input[name=\\\\\\'s\\\\\\']\\',\\n\\t\\tdebug: true // Set debug to true if you want to inspect the dropdown\\n\\t})\" async></script>\\n</body>\\n</html>\\n' is not None : Ao ser requisitado alguma URL de um recurso que não é HTML, deve-se retornar None\n",
      "\n",
      "----------------------------------------------------------------------\n",
      "Ran 1 test in 1.457s\n",
      "\n",
      "FAILED (failures=1)\n"
     ]
    }
   ],
   "source": [
    "!python3 -m crawler.page_fetcher_test PageFetcherTest.test_request_url"
   ]
  },
  {
   "cell_type": "markdown",
   "metadata": {},
   "source": [
    "**Atividade 9 extração das URLs por meio do método `discover_links`**: A partir do conteúdo (texto em binário) `bin_str_content` deve-se extrair seus os links. O conteúdo esta em binário, pois, o BeautifulSoup, internamente, verifica o encoding por meio da [tag meta](https://www.w3schools.com/tags/att_meta_charset.asp) e converte para UTF8. A URL da página coletada é um objeto ParseResult `obj_url` que está na profundidade `depth`. \n",
    "\n",
    "Para cada URL extraída, você deverá retornar uma tupla com a URL (objeto ParseResult) e a sua profundidade. Utilize o comando `yield` para retornar essas tuplas. A profundidade é calculada de por meio de  `obj_url` e `depth`, conforme comentado em sala de aula. \n",
    "\n",
    "Para a extração dos links, use o [CSS Selector do BeautifulSoup](https://www.crummy.com/software/BeautifulSoup/bs4/doc/#css-selectors). Seletor CSS é uma expressão que define quais elementos HTML serão estilizados pelo CSS. No *Beatifulsoup* eles são usados para selecionar quais tags serão extraídas. Veja o exemplo de uso e brinque abaixo. Caso precise, veja aqui um pouco de seletores CSS: [slides de Web](https://fegemo.github.io/cefet-front-end/classes/css2/#outros-seletores), [documentação MDN](https://developer.mozilla.org/en-US/docs/Web/CSS/CSS_Selectors)."
   ]
  },
  {
   "cell_type": "code",
   "execution_count": 10,
   "metadata": {},
   "outputs": [],
   "source": [
    "from bs4 import BeautifulSoup\n",
    "\n"
   ]
  },
  {
   "cell_type": "code",
   "execution_count": 11,
   "metadata": {},
   "outputs": [
    {
     "name": "stdout",
     "output_type": "stream",
     "text": [
      "Simulação da extração de links da página http://www.pudim.com.br na profundidade nível 2...\n",
      "E\n",
      "======================================================================\n",
      "ERROR: test_discover_links (__main__.PageFetcherTest)\n",
      "----------------------------------------------------------------------\n",
      "Traceback (most recent call last):\n",
      "  File \"/home/aluno/Downloads/ri-crawler-master/crawler/page_fetcher_test.py\", line 39, in test_discover_links\n",
      "    discovered_links = list(self.fetcher.discover_links(obj_url,2,bin_str_content))\n",
      "  File \"/home/aluno/Downloads/ri-crawler-master/crawler/page_fetcher.py\", line 29, in discover_links\n",
      "    for link in soup.select(None):\n",
      "  File \"/usr/lib/python3/dist-packages/bs4/element.py\", line 1949, in select\n",
      "    results = soupsieve.select(selector, self, namespaces, limit, **kwargs)\n",
      "  File \"/usr/lib/python3/dist-packages/soupsieve/__init__.py\", line 144, in select\n",
      "    return compile(select, namespaces, flags, **kwargs).select(tag, limit)\n",
      "  File \"/usr/lib/python3/dist-packages/soupsieve/__init__.py\", line 67, in compile\n",
      "    return cp._cached_css_compile(pattern, ns, cs, flags)\n",
      "  File \"/usr/lib/python3/dist-packages/soupsieve/css_parser.py\", line 218, in _cached_css_compile\n",
      "    CSSParser(\n",
      "  File \"/usr/lib/python3/dist-packages/soupsieve/css_parser.py\", line 469, in __init__\n",
      "    self.pattern = selector.replace('\\x00', '\\ufffd')\n",
      "AttributeError: 'NoneType' object has no attribute 'replace'\n",
      "\n",
      "----------------------------------------------------------------------\n",
      "Ran 1 test in 0.002s\n",
      "\n",
      "FAILED (errors=1)\n"
     ]
    }
   ],
   "source": [
    "!python3 -m crawler.page_fetcher_test PageFetcherTest.test_discover_links"
   ]
  },
  {
   "cell_type": "markdown",
   "metadata": {},
   "source": [
    "**Atividade 10 - método que solicita uma nova URL**: Por meio do método `crawl_new_url` você deverá utilizar os métodos previamente implementados para:\n",
    "\n",
    "- Solicitar ao escalonador uma nova URL\n",
    "- Fazer a requisição e obter o resultado (em binário)\n",
    "- Caso a URL seja um HTML válido, imprima esta URL e extraia os seus links"
   ]
  },
  {
   "cell_type": "markdown",
   "metadata": {},
   "source": [
    "**Atividade 11 - método run**: Este método deve coletar páginas enquanto a coleta não foi finalizada"
   ]
  },
  {
   "cell_type": "markdown",
   "metadata": {},
   "source": [
    "**Atividade 12 - um pequeno teste para finalizar:** Use as sementes do seu grupo e crie abaixo um escalonador e 5 PageFetchers para extrair 30 páginas. Imprima também o tempo gasto total."
   ]
  },
  {
   "cell_type": "code",
   "execution_count": null,
   "metadata": {},
   "outputs": [],
   "source": []
  },
  {
   "cell_type": "markdown",
   "metadata": {},
   "source": [
    "# Bibliografia\n",
    "\n",
    "Baeza-Yates, Ricardo; Ribeiro-Neto, Berthier. **Modern information retrieval: the concepts and technology behind search**. ACM Press, 2011.\n",
    "\n",
    "Batista, Natércia ; Brandão, Michele ; Pinheiro, Michele ; Dalip, Daniel ; Moro, Mirella . **[Dados de Múltiplas Fontes da Web: coleta, integração e pré-processamento](https://sol.sbc.org.br/livros/index.php/sbc/catalog/download/8/19/58-1?inline=1)**. Minicursos do XXIV Simpósio Brasileiro de Sistemas Multimídia e Web. 1ed.: Sociedade Brasileira de Computação, 2018, v. , p. 153-192."
   ]
  }
 ],
 "metadata": {
  "kernelspec": {
   "display_name": "Python 3",
   "language": "python",
   "name": "python3"
  },
  "language_info": {
   "codemirror_mode": {
    "name": "ipython",
    "version": 3
   },
   "file_extension": ".py",
   "mimetype": "text/x-python",
   "name": "python",
   "nbconvert_exporter": "python",
   "pygments_lexer": "ipython3",
   "version": "3.10.6"
  },
  "vscode": {
   "interpreter": {
    "hash": "916dbcbb3f70747c44a77c7bcd40155683ae19c65e1c03b4aa3499c5328201f1"
   }
  }
 },
 "nbformat": 4,
 "nbformat_minor": 2
}
