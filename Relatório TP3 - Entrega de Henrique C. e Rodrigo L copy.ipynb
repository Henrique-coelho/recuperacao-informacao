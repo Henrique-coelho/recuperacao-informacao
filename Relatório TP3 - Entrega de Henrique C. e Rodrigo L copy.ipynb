{
 "cells": [
  {
   "attachments": {},
   "cell_type": "markdown",
   "metadata": {},
   "source": [
    "# Trabalho Prático 3: Processamento e avaliação de consultas\n",
    "### Relatório de Henrique Coelho e Rodrigo Lopes"
   ]
  },
  {
   "attachments": {},
   "cell_type": "markdown",
   "metadata": {},
   "source": [
    "##### Análise a ocorrência de termos no documento fazendo, no mínimo:\n",
    "Quais são os 10 termos com maior e menor IDF da coleção? Com base nos termos de menor IDF, será que podiamos propor stopwords novas? Com base nesses termos, existe algo que você poderia melhorar no processamento?\n",
    "Apresente o gráfico de frequência das palavras. Tais palavras devem ser ordenadas decrescentemente de acordo com a sua frequência e devem ser todas representadas no eixo x. Note que a frequencia da palavra é a frequência total do termo na coleção (definido por F(termo) na aula sobre TF-IDF). De forma similar, faça o gráfico do IDF de cada palavra (veja o grafico similar na aula sobre TF-IDF). Mostra também, quais tipos de palavras (específicas? Erros de processamento?) possuem TF alto, mediano e baixo. Faça o mesmo para IDF. Note que esse grafico deve conter todas as palavras. Não é necessário apresentar todos os valores do eixo x (palavras), pois, ficaria difícil de visualizar. \n",
    "[opcional] Qual é o tamanho do vocabulário (número de palavras) quando usamos stemming e remoção de stopwords? e quando não usamos?\n",
    "\n",
    "\n",
    "    aaaa"
   ]
  },
  {
   "attachments": {},
   "cell_type": "markdown",
   "metadata": {},
   "source": [
    "##### Faça algumas consultas exemplos, mostrando o tempo de execução e o número de documentos retornados para cada consulta para cada modelo implementado.\n",
    "\n",
    "\n",
    "    aaa"
   ]
  },
  {
   "attachments": {},
   "cell_type": "markdown",
   "metadata": {},
   "source": [
    "##### Apresentação e discussão dos gráficos de avaliação (precisão e revocação @5, @10, @25, @50 revocação @5, @10, @25, @50) do modelo vetorial\n",
    "    aaaa"
   ]
  }
 ],
 "metadata": {
  "language_info": {
   "name": "python"
  },
  "orig_nbformat": 4
 },
 "nbformat": 4,
 "nbformat_minor": 2
}
