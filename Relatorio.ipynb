{
 "cells": [
  {
   "attachments": {},
   "cell_type": "markdown",
   "metadata": {},
   "source": [
    "## Relatório Coletor\n",
    "#### Entrega de Henrique C. e Rodrigo L."
   ]
  },
  {
   "attachments": {},
   "cell_type": "markdown",
   "metadata": {},
   "source": [
    "Para a projeção do Crawler, a arquitetura envolve três segmentos: o Domain, Page Fetcher e o Scheduler. O Scheduler age como o escalonador do sistema, organizando os pedidos de requisições de URLs em filas. Em segida, temos o Page Fetcher, que requisitas as páginas escalonadas de forma paralela (uso de threads). Por fim, temos o Domain, que armazena informações importantes do servidor e domínio de origem das URLs, necessárias para o processo de escalonamento.\n",
    "\n",
    "Uma grande dificuldade deste projeto foi entender como a comunicação entres os vários segmentos de teste comunicam no projeto como um todos. Enquanto obtivemos sucesso em todos os teste unitários de cada método desenvolvido para o Crawler, a união de todos apresentou grandes problemas de execução. py'. Códigos associados ao 'page_fetcher.py' possuiam com sucesso no teste unitário, mas estes apresentaram muitos erros quando associados a arquivos de robôs. Assim, não conseguimos finalizar esta etapa."
   ]
  },
  {
   "attachments": {},
   "cell_type": "markdown",
   "metadata": {},
   "source": [
    "URLs sementes utilizadas:\n",
    "\n",
    "http://www.globo.com\n",
    "\n",
    "https://www.cefetmg.br\n",
    "\n",
    "https://youtube.com"
   ]
  },
  {
   "attachments": {},
   "cell_type": "markdown",
   "metadata": {},
   "source": [
    "\n",
    "Para o critério de exclusão de robôs, a atividade 6, que envolveu com a parte de robots, não esclareceu como os robots funcionavam. Como já comentado, o sucesso dos teste unitários fez com que nós não percebecemos a ocorrência destes erro antes que este acumulassem em todo o projeto. Assim, gostaria de um esclarecimento e diretriz de como funciona a exclusão de robôs.\n",
    "Pretendemos corrigir estes erro para prosseguirmos às etapas seguintes deste projeto, uma vez que é essencial o funcionamento do código como um todo para o fechamento completo desta disciplina."
   ]
  }
 ],
 "metadata": {
  "kernelspec": {
   "display_name": "Python 3",
   "language": "python",
   "name": "python3"
  },
  "language_info": {
   "name": "python",
   "version": "3.10.6 (main, Nov 14 2022, 16:10:14) [GCC 11.3.0]"
  },
  "orig_nbformat": 4,
  "vscode": {
   "interpreter": {
    "hash": "916dbcbb3f70747c44a77c7bcd40155683ae19c65e1c03b4aa3499c5328201f1"
   }
  }
 },
 "nbformat": 4,
 "nbformat_minor": 2
}
